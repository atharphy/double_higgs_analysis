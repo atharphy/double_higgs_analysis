{
 "cells": [
  {
   "cell_type": "code",
   "execution_count": null,
   "id": "a6c1fc4a",
   "metadata": {},
   "outputs": [],
   "source": [
    "import ROOT\n",
    "import os\n",
    "from ROOT import gROOT\n",
    "import pandas as pd\n",
    "import numpy as np"
   ]
  },
  {
   "cell_type": "code",
   "execution_count": null,
   "id": "ad968d07",
   "metadata": {},
   "outputs": [],
   "source": [
    "MakeCsvDataFrame = ROOT.RDF.MakeCsvDataFrame"
   ]
  },
  {
   "cell_type": "code",
   "execution_count": null,
   "id": "22459b3a",
   "metadata": {},
   "outputs": [],
   "source": [
    "tt_file = MakeCsvDataFrame('/localdata/Athar/output_files/tt_classified.csv')\n",
    "hh_file = MakeCsvDataFrame('/localdata/Athar/output_files/hh_classified.csv')"
   ]
  },
  {
   "cell_type": "code",
   "execution_count": null,
   "id": "db34e857",
   "metadata": {},
   "outputs": [],
   "source": [
    "cut = np.linspace(0.90, 0.99,30)\n",
    "Lumi = 3000\n",
    "# TTbar variables\n",
    "BR_tt = 0.375  # Total branching ratio for the ttbar process\n",
    "x_sect_tt = 984500  # fb\n",
    "total_events_tt = 1_400_000\n",
    "\n",
    "# HH variables\n",
    "BR_hh = 0.0937  # Total branching ratio for the hh process\n",
    "x_sect_hh = 40  # fb\n",
    "total_events_hh = 900_000\n",
    "\n",
    "max_sigma = 0\n",
    "cut_index = 0\n",
    "sigma_value = []\n",
    "cut_value = []\n",
    "signal_events_dict = {}  # Dictionary to store signal event rows for each bin\n",
    "background_events_dict = {}  # Dictionary to store background event rows for each bin\n",
    "\n",
    "for i in cut:\n",
    "    prob_sig_cut = 'prob_sig > {}'.format(i)\n",
    "    tt_cut = tt_file.Filter(prob_sig_cut)  # Filter signal events\n",
    "    hh_cut = hh_file.Filter(prob_sig_cut)  # Filter background events\n",
    "\n",
    "    # Extract relevant data from RDataFrame and convert to pandas DataFrame\n",
    "    tt_cut_data = tt_cut.AsNumpy()\n",
    "    tt_cut_df = pd.DataFrame(tt_cut_data)\n",
    "\n",
    "    hh_cut_data = hh_cut.AsNumpy()\n",
    "    hh_cut_df = pd.DataFrame(hh_cut_data)\n",
    "\n",
    "    num_hh = hh_cut.Count().GetValue()\n",
    "    num_tt = tt_cut.Count().GetValue()\n",
    "    print('number of tt events: ', num_tt)\n",
    "    print('number of hh events: ', num_hh)\n",
    "\n",
    "    accp_tt = num_tt / total_events_tt\n",
    "    accp_hh = num_hh / total_events_hh\n",
    "    print('acceptance of hh: ', accp_hh)\n",
    "    print('acceptance of tt: ', accp_tt)\n",
    "\n",
    "    # Calculate expected events\n",
    "    N_exp_tt = Lumi * BR_tt * x_sect_tt * accp_tt\n",
    "    N_exp_hh = Lumi * BR_hh * x_sect_hh * accp_hh\n",
    "    print('No. of expected tt events: ', N_exp_tt)\n",
    "    print('No. of expected hh events: ', N_exp_hh)\n",
    "\n",
    "    sigma = N_exp_hh / (N_exp_tt)**(1/2)\n",
    "    print(\"semi-lepton Sigma: \" + str(sigma) + \" with a cut > \" + str(i))\n",
    "    sigma_value.append(sigma)\n",
    "    cut_value.append(i)\n",
    "\n",
    "    # Store copies of the DataFrames in the dictionaries for each bin\n",
    "    signal_events_dict[i] = hh_cut_df.copy()\n",
    "    background_events_dict[i] = tt_cut_df.copy()\n",
    "\n",
    "    if sigma > max_sigma:\n",
    "        max_sigma = sigma\n",
    "        cut_index = i\n",
    "\n",
    "print('No. of tt events at maximum sigma: ', tt_cut.Count().GetValue())\n",
    "print('No. of hh events at maximum sigma: ', hh_cut.Count().GetValue())\n",
    "print('The maximum sigma value is:')\n",
    "print(\"semi-lepton Sigma: \" + str(max_sigma) + \" with a cut > \" + str(cut_index))\n",
    "bb = pd.DataFrame({\"cut_value\" : cut_value, \"sigma_value\" : sigma_value})\n",
    "bb.to_csv(\"/localdata/Athar/plot_data/analyzed_data.csv\", index=False)\n",
    "\n",
    "\n",
    "# Save the data for each bin to separate CSV files\n",
    "for i in cut:\n",
    "    signal_events_dict[i].to_csv(f\"/localdata/Athar/cut_data/signal_events_bin_{i}.csv\", index=False)\n",
    "    background_events_dict[i].to_csv(f\"/localdata/Athar/cut_data/background_events_bin_{i}.csv\", index=False)"
   ]
  }
 ],
 "metadata": {
  "kernelspec": {
   "display_name": "Python 3",
   "language": "python",
   "name": "python3"
  },
  "language_info": {
   "codemirror_mode": {
    "name": "ipython",
    "version": 3
   },
   "file_extension": ".py",
   "mimetype": "text/x-python",
   "name": "python",
   "nbconvert_exporter": "python",
   "pygments_lexer": "ipython3",
   "version": "3.11.9"
  }
 },
 "nbformat": 4,
 "nbformat_minor": 5
}
